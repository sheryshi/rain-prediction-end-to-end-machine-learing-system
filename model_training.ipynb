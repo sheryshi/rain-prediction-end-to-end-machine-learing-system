{
 "cells": [
  {
   "cell_type": "code",
   "execution_count": 29,
   "metadata": {},
   "outputs": [],
   "source": [
    "\n",
    "import pandas as pd\n",
    "import numpy as np\n",
    "import matplotlib.pyplot as plt\n",
    "import seaborn as sns\n",
    "%matplotlib inline"
   ]
  },
  {
   "cell_type": "code",
   "execution_count": 30,
   "metadata": {},
   "outputs": [],
   "source": [
    "df=pd.read_csv(r'C:\\Users\\Gaurav\\OneDrive\\Desktop\\rain_prediction\\Notebooks\\rain_predicyion_cleaned_dataset_csv')"
   ]
  },
  {
   "cell_type": "code",
   "execution_count": 68,
   "metadata": {},
   "outputs": [
    {
     "data": {
      "text/plain": [
       "dew_point        float64\n",
       "tmin             float64\n",
       "tmax             float64\n",
       "rel_humidity     float64\n",
       "preci            float64\n",
       "press_kPa        float64\n",
       "wind_speed       float64\n",
       "day                int64\n",
       "rain_today         int64\n",
       "rain_tomorrow      int64\n",
       "dtype: object"
      ]
     },
     "execution_count": 68,
     "metadata": {},
     "output_type": "execute_result"
    }
   ],
   "source": [
    "df.dtypes"
   ]
  },
  {
   "cell_type": "code",
   "execution_count": 31,
   "metadata": {},
   "outputs": [
    {
     "data": {
      "text/html": [
       "<div>\n",
       "<style scoped>\n",
       "    .dataframe tbody tr th:only-of-type {\n",
       "        vertical-align: middle;\n",
       "    }\n",
       "\n",
       "    .dataframe tbody tr th {\n",
       "        vertical-align: top;\n",
       "    }\n",
       "\n",
       "    .dataframe thead th {\n",
       "        text-align: right;\n",
       "    }\n",
       "</style>\n",
       "<table border=\"1\" class=\"dataframe\">\n",
       "  <thead>\n",
       "    <tr style=\"text-align: right;\">\n",
       "      <th></th>\n",
       "      <th>LAT</th>\n",
       "      <th>LON</th>\n",
       "      <th>YEAR</th>\n",
       "      <th>month</th>\n",
       "      <th>date</th>\n",
       "      <th>dew_point</th>\n",
       "      <th>tmin</th>\n",
       "      <th>tmax</th>\n",
       "      <th>rel_humidity</th>\n",
       "      <th>preci</th>\n",
       "      <th>press_kPa</th>\n",
       "      <th>wind_speed</th>\n",
       "      <th>day</th>\n",
       "      <th>rain_today</th>\n",
       "      <th>rain_tomorrow</th>\n",
       "    </tr>\n",
       "  </thead>\n",
       "  <tbody>\n",
       "    <tr>\n",
       "      <th>0</th>\n",
       "      <td>22.75</td>\n",
       "      <td>82.25</td>\n",
       "      <td>2021-01-01</td>\n",
       "      <td>1</td>\n",
       "      <td>1.0</td>\n",
       "      <td>9.53</td>\n",
       "      <td>9.46</td>\n",
       "      <td>24.27</td>\n",
       "      <td>64.99</td>\n",
       "      <td>0.0</td>\n",
       "      <td>96.09</td>\n",
       "      <td>4.85</td>\n",
       "      <td>1</td>\n",
       "      <td>1</td>\n",
       "      <td>1</td>\n",
       "    </tr>\n",
       "    <tr>\n",
       "      <th>1</th>\n",
       "      <td>22.75</td>\n",
       "      <td>82.75</td>\n",
       "      <td>2021-01-01</td>\n",
       "      <td>1</td>\n",
       "      <td>1.0</td>\n",
       "      <td>10.11</td>\n",
       "      <td>9.82</td>\n",
       "      <td>23.72</td>\n",
       "      <td>67.79</td>\n",
       "      <td>0.0</td>\n",
       "      <td>96.12</td>\n",
       "      <td>4.65</td>\n",
       "      <td>1</td>\n",
       "      <td>1</td>\n",
       "      <td>1</td>\n",
       "    </tr>\n",
       "    <tr>\n",
       "      <th>2</th>\n",
       "      <td>22.75</td>\n",
       "      <td>83.25</td>\n",
       "      <td>2021-01-01</td>\n",
       "      <td>1</td>\n",
       "      <td>1.0</td>\n",
       "      <td>10.34</td>\n",
       "      <td>10.04</td>\n",
       "      <td>22.63</td>\n",
       "      <td>70.28</td>\n",
       "      <td>0.0</td>\n",
       "      <td>95.34</td>\n",
       "      <td>4.03</td>\n",
       "      <td>1</td>\n",
       "      <td>1</td>\n",
       "      <td>1</td>\n",
       "    </tr>\n",
       "    <tr>\n",
       "      <th>3</th>\n",
       "      <td>22.75</td>\n",
       "      <td>83.75</td>\n",
       "      <td>2021-01-01</td>\n",
       "      <td>1</td>\n",
       "      <td>1.0</td>\n",
       "      <td>10.14</td>\n",
       "      <td>10.33</td>\n",
       "      <td>22.20</td>\n",
       "      <td>70.00</td>\n",
       "      <td>0.0</td>\n",
       "      <td>94.86</td>\n",
       "      <td>3.71</td>\n",
       "      <td>1</td>\n",
       "      <td>1</td>\n",
       "      <td>1</td>\n",
       "    </tr>\n",
       "    <tr>\n",
       "      <th>4</th>\n",
       "      <td>22.75</td>\n",
       "      <td>84.25</td>\n",
       "      <td>2021-01-01</td>\n",
       "      <td>1</td>\n",
       "      <td>1.0</td>\n",
       "      <td>9.73</td>\n",
       "      <td>9.95</td>\n",
       "      <td>22.98</td>\n",
       "      <td>68.85</td>\n",
       "      <td>0.0</td>\n",
       "      <td>95.41</td>\n",
       "      <td>4.41</td>\n",
       "      <td>1</td>\n",
       "      <td>1</td>\n",
       "      <td>1</td>\n",
       "    </tr>\n",
       "  </tbody>\n",
       "</table>\n",
       "</div>"
      ],
      "text/plain": [
       "     LAT    LON        YEAR  month  date  dew_point   tmin   tmax  \\\n",
       "0  22.75  82.25  2021-01-01      1   1.0       9.53   9.46  24.27   \n",
       "1  22.75  82.75  2021-01-01      1   1.0      10.11   9.82  23.72   \n",
       "2  22.75  83.25  2021-01-01      1   1.0      10.34  10.04  22.63   \n",
       "3  22.75  83.75  2021-01-01      1   1.0      10.14  10.33  22.20   \n",
       "4  22.75  84.25  2021-01-01      1   1.0       9.73   9.95  22.98   \n",
       "\n",
       "   rel_humidity  preci  press_kPa  wind_speed  day  rain_today  rain_tomorrow  \n",
       "0         64.99    0.0      96.09        4.85    1           1              1  \n",
       "1         67.79    0.0      96.12        4.65    1           1              1  \n",
       "2         70.28    0.0      95.34        4.03    1           1              1  \n",
       "3         70.00    0.0      94.86        3.71    1           1              1  \n",
       "4         68.85    0.0      95.41        4.41    1           1              1  "
      ]
     },
     "execution_count": 31,
     "metadata": {},
     "output_type": "execute_result"
    }
   ],
   "source": [
    "\n",
    "df.head()"
   ]
  },
  {
   "cell_type": "code",
   "execution_count": 32,
   "metadata": {},
   "outputs": [
    {
     "data": {
      "text/plain": [
       "Index(['LAT', 'LON', 'YEAR', 'month', 'date', 'dew_point', 'tmin', 'tmax',\n",
       "       'rel_humidity', 'preci', 'press_kPa', 'wind_speed', 'day', 'rain_today',\n",
       "       'rain_tomorrow'],\n",
       "      dtype='object')"
      ]
     },
     "execution_count": 32,
     "metadata": {},
     "output_type": "execute_result"
    }
   ],
   "source": [
    "df.columns"
   ]
  },
  {
   "cell_type": "markdown",
   "metadata": {},
   "source": []
  },
  {
   "cell_type": "code",
   "execution_count": 33,
   "metadata": {},
   "outputs": [],
   "source": [
    "df.drop(['date','month','YEAR','LAT','LON' ],axis=1,inplace=True)"
   ]
  },
  {
   "cell_type": "code",
   "execution_count": 34,
   "metadata": {},
   "outputs": [
    {
     "data": {
      "text/plain": [
       "Index(['dew_point', 'tmin', 'tmax', 'rel_humidity', 'preci', 'press_kPa',\n",
       "       'wind_speed', 'day', 'rain_today', 'rain_tomorrow'],\n",
       "      dtype='object')"
      ]
     },
     "execution_count": 34,
     "metadata": {},
     "output_type": "execute_result"
    }
   ],
   "source": [
    "df.columns"
   ]
  },
  {
   "cell_type": "code",
   "execution_count": 35,
   "metadata": {},
   "outputs": [],
   "source": [
    "## independent and dependent feature\n",
    "\n",
    "x=df.drop('preci',axis=1)\n",
    "\n",
    "y=df['preci']"
   ]
  },
  {
   "cell_type": "code",
   "execution_count": 36,
   "metadata": {},
   "outputs": [
    {
     "data": {
      "text/html": [
       "<div>\n",
       "<style scoped>\n",
       "    .dataframe tbody tr th:only-of-type {\n",
       "        vertical-align: middle;\n",
       "    }\n",
       "\n",
       "    .dataframe tbody tr th {\n",
       "        vertical-align: top;\n",
       "    }\n",
       "\n",
       "    .dataframe thead th {\n",
       "        text-align: right;\n",
       "    }\n",
       "</style>\n",
       "<table border=\"1\" class=\"dataframe\">\n",
       "  <thead>\n",
       "    <tr style=\"text-align: right;\">\n",
       "      <th></th>\n",
       "      <th>dew_point</th>\n",
       "      <th>tmin</th>\n",
       "      <th>tmax</th>\n",
       "      <th>rel_humidity</th>\n",
       "      <th>press_kPa</th>\n",
       "      <th>wind_speed</th>\n",
       "      <th>day</th>\n",
       "      <th>rain_today</th>\n",
       "      <th>rain_tomorrow</th>\n",
       "    </tr>\n",
       "  </thead>\n",
       "  <tbody>\n",
       "    <tr>\n",
       "      <th>0</th>\n",
       "      <td>9.53</td>\n",
       "      <td>9.46</td>\n",
       "      <td>24.27</td>\n",
       "      <td>64.99</td>\n",
       "      <td>96.09</td>\n",
       "      <td>4.85</td>\n",
       "      <td>1</td>\n",
       "      <td>1</td>\n",
       "      <td>1</td>\n",
       "    </tr>\n",
       "    <tr>\n",
       "      <th>1</th>\n",
       "      <td>10.11</td>\n",
       "      <td>9.82</td>\n",
       "      <td>23.72</td>\n",
       "      <td>67.79</td>\n",
       "      <td>96.12</td>\n",
       "      <td>4.65</td>\n",
       "      <td>1</td>\n",
       "      <td>1</td>\n",
       "      <td>1</td>\n",
       "    </tr>\n",
       "    <tr>\n",
       "      <th>2</th>\n",
       "      <td>10.34</td>\n",
       "      <td>10.04</td>\n",
       "      <td>22.63</td>\n",
       "      <td>70.28</td>\n",
       "      <td>95.34</td>\n",
       "      <td>4.03</td>\n",
       "      <td>1</td>\n",
       "      <td>1</td>\n",
       "      <td>1</td>\n",
       "    </tr>\n",
       "    <tr>\n",
       "      <th>3</th>\n",
       "      <td>10.14</td>\n",
       "      <td>10.33</td>\n",
       "      <td>22.20</td>\n",
       "      <td>70.00</td>\n",
       "      <td>94.86</td>\n",
       "      <td>3.71</td>\n",
       "      <td>1</td>\n",
       "      <td>1</td>\n",
       "      <td>1</td>\n",
       "    </tr>\n",
       "    <tr>\n",
       "      <th>4</th>\n",
       "      <td>9.73</td>\n",
       "      <td>9.95</td>\n",
       "      <td>22.98</td>\n",
       "      <td>68.85</td>\n",
       "      <td>95.41</td>\n",
       "      <td>4.41</td>\n",
       "      <td>1</td>\n",
       "      <td>1</td>\n",
       "      <td>1</td>\n",
       "    </tr>\n",
       "  </tbody>\n",
       "</table>\n",
       "</div>"
      ],
      "text/plain": [
       "   dew_point   tmin   tmax  rel_humidity  press_kPa  wind_speed  day  \\\n",
       "0       9.53   9.46  24.27         64.99      96.09        4.85    1   \n",
       "1      10.11   9.82  23.72         67.79      96.12        4.65    1   \n",
       "2      10.34  10.04  22.63         70.28      95.34        4.03    1   \n",
       "3      10.14  10.33  22.20         70.00      94.86        3.71    1   \n",
       "4       9.73   9.95  22.98         68.85      95.41        4.41    1   \n",
       "\n",
       "   rain_today  rain_tomorrow  \n",
       "0           1              1  \n",
       "1           1              1  \n",
       "2           1              1  \n",
       "3           1              1  \n",
       "4           1              1  "
      ]
     },
     "execution_count": 36,
     "metadata": {},
     "output_type": "execute_result"
    }
   ],
   "source": [
    "x.head()"
   ]
  },
  {
   "cell_type": "code",
   "execution_count": 37,
   "metadata": {},
   "outputs": [
    {
     "data": {
      "text/plain": [
       "0        0.00\n",
       "1        0.00\n",
       "2        0.00\n",
       "3        0.00\n",
       "4        0.00\n",
       "         ... \n",
       "37955    0.02\n",
       "37956    0.02\n",
       "37957    0.06\n",
       "37958    0.40\n",
       "37959    0.96\n",
       "Name: preci, Length: 37960, dtype: float64"
      ]
     },
     "execution_count": 37,
     "metadata": {},
     "output_type": "execute_result"
    }
   ],
   "source": [
    "y"
   ]
  },
  {
   "cell_type": "code",
   "execution_count": 38,
   "metadata": {},
   "outputs": [
    {
     "data": {
      "text/html": [
       "<div>\n",
       "<style scoped>\n",
       "    .dataframe tbody tr th:only-of-type {\n",
       "        vertical-align: middle;\n",
       "    }\n",
       "\n",
       "    .dataframe tbody tr th {\n",
       "        vertical-align: top;\n",
       "    }\n",
       "\n",
       "    .dataframe thead th {\n",
       "        text-align: right;\n",
       "    }\n",
       "</style>\n",
       "<table border=\"1\" class=\"dataframe\">\n",
       "  <thead>\n",
       "    <tr style=\"text-align: right;\">\n",
       "      <th></th>\n",
       "      <th>dew_point</th>\n",
       "      <th>tmin</th>\n",
       "      <th>tmax</th>\n",
       "      <th>rel_humidity</th>\n",
       "      <th>press_kPa</th>\n",
       "      <th>wind_speed</th>\n",
       "      <th>day</th>\n",
       "      <th>rain_today</th>\n",
       "      <th>rain_tomorrow</th>\n",
       "    </tr>\n",
       "  </thead>\n",
       "  <tbody>\n",
       "    <tr>\n",
       "      <th>0</th>\n",
       "      <td>9.53</td>\n",
       "      <td>9.46</td>\n",
       "      <td>24.27</td>\n",
       "      <td>64.99</td>\n",
       "      <td>96.09</td>\n",
       "      <td>4.85</td>\n",
       "      <td>1</td>\n",
       "      <td>1</td>\n",
       "      <td>1</td>\n",
       "    </tr>\n",
       "    <tr>\n",
       "      <th>1</th>\n",
       "      <td>10.11</td>\n",
       "      <td>9.82</td>\n",
       "      <td>23.72</td>\n",
       "      <td>67.79</td>\n",
       "      <td>96.12</td>\n",
       "      <td>4.65</td>\n",
       "      <td>1</td>\n",
       "      <td>1</td>\n",
       "      <td>1</td>\n",
       "    </tr>\n",
       "    <tr>\n",
       "      <th>2</th>\n",
       "      <td>10.34</td>\n",
       "      <td>10.04</td>\n",
       "      <td>22.63</td>\n",
       "      <td>70.28</td>\n",
       "      <td>95.34</td>\n",
       "      <td>4.03</td>\n",
       "      <td>1</td>\n",
       "      <td>1</td>\n",
       "      <td>1</td>\n",
       "    </tr>\n",
       "    <tr>\n",
       "      <th>3</th>\n",
       "      <td>10.14</td>\n",
       "      <td>10.33</td>\n",
       "      <td>22.20</td>\n",
       "      <td>70.00</td>\n",
       "      <td>94.86</td>\n",
       "      <td>3.71</td>\n",
       "      <td>1</td>\n",
       "      <td>1</td>\n",
       "      <td>1</td>\n",
       "    </tr>\n",
       "    <tr>\n",
       "      <th>4</th>\n",
       "      <td>9.73</td>\n",
       "      <td>9.95</td>\n",
       "      <td>22.98</td>\n",
       "      <td>68.85</td>\n",
       "      <td>95.41</td>\n",
       "      <td>4.41</td>\n",
       "      <td>1</td>\n",
       "      <td>1</td>\n",
       "      <td>1</td>\n",
       "    </tr>\n",
       "  </tbody>\n",
       "</table>\n",
       "</div>"
      ],
      "text/plain": [
       "   dew_point   tmin   tmax  rel_humidity  press_kPa  wind_speed  day  \\\n",
       "0       9.53   9.46  24.27         64.99      96.09        4.85    1   \n",
       "1      10.11   9.82  23.72         67.79      96.12        4.65    1   \n",
       "2      10.34  10.04  22.63         70.28      95.34        4.03    1   \n",
       "3      10.14  10.33  22.20         70.00      94.86        3.71    1   \n",
       "4       9.73   9.95  22.98         68.85      95.41        4.41    1   \n",
       "\n",
       "   rain_today  rain_tomorrow  \n",
       "0           1              1  \n",
       "1           1              1  \n",
       "2           1              1  \n",
       "3           1              1  \n",
       "4           1              1  "
      ]
     },
     "execution_count": 38,
     "metadata": {},
     "output_type": "execute_result"
    }
   ],
   "source": [
    "x.head()"
   ]
  },
  {
   "cell_type": "code",
   "execution_count": 39,
   "metadata": {},
   "outputs": [],
   "source": [
    "from sklearn.model_selection import train_test_split "
   ]
  },
  {
   "cell_type": "code",
   "execution_count": 40,
   "metadata": {},
   "outputs": [],
   "source": [
    "x_train,x_test,y_train,y_test=train_test_split(x,y,test_size=0.25,random_state=42)"
   ]
  },
  {
   "cell_type": "code",
   "execution_count": 41,
   "metadata": {},
   "outputs": [
    {
     "data": {
      "text/plain": [
       "((28470, 9), (9490, 9))"
      ]
     },
     "execution_count": 41,
     "metadata": {},
     "output_type": "execute_result"
    }
   ],
   "source": [
    "x_train.shape,x_test.shape"
   ]
  },
  {
   "cell_type": "code",
   "execution_count": 42,
   "metadata": {},
   "outputs": [
    {
     "data": {
      "text/html": [
       "<div>\n",
       "<style scoped>\n",
       "    .dataframe tbody tr th:only-of-type {\n",
       "        vertical-align: middle;\n",
       "    }\n",
       "\n",
       "    .dataframe tbody tr th {\n",
       "        vertical-align: top;\n",
       "    }\n",
       "\n",
       "    .dataframe thead th {\n",
       "        text-align: right;\n",
       "    }\n",
       "</style>\n",
       "<table border=\"1\" class=\"dataframe\">\n",
       "  <thead>\n",
       "    <tr style=\"text-align: right;\">\n",
       "      <th></th>\n",
       "      <th>dew_point</th>\n",
       "      <th>tmin</th>\n",
       "      <th>tmax</th>\n",
       "      <th>rel_humidity</th>\n",
       "      <th>press_kPa</th>\n",
       "      <th>wind_speed</th>\n",
       "      <th>day</th>\n",
       "      <th>rain_today</th>\n",
       "      <th>rain_tomorrow</th>\n",
       "    </tr>\n",
       "  </thead>\n",
       "  <tbody>\n",
       "    <tr>\n",
       "      <th>dew_point</th>\n",
       "      <td>1.000000</td>\n",
       "      <td>0.664980</td>\n",
       "      <td>-0.022607</td>\n",
       "      <td>0.849808</td>\n",
       "      <td>-0.076022</td>\n",
       "      <td>0.066440</td>\n",
       "      <td>NaN</td>\n",
       "      <td>-0.718994</td>\n",
       "      <td>-0.710148</td>\n",
       "    </tr>\n",
       "    <tr>\n",
       "      <th>tmin</th>\n",
       "      <td>0.664980</td>\n",
       "      <td>1.000000</td>\n",
       "      <td>0.684752</td>\n",
       "      <td>0.219615</td>\n",
       "      <td>-0.124601</td>\n",
       "      <td>0.272561</td>\n",
       "      <td>NaN</td>\n",
       "      <td>-0.639495</td>\n",
       "      <td>-0.634057</td>\n",
       "    </tr>\n",
       "    <tr>\n",
       "      <th>tmax</th>\n",
       "      <td>-0.022607</td>\n",
       "      <td>0.684752</td>\n",
       "      <td>1.000000</td>\n",
       "      <td>-0.520244</td>\n",
       "      <td>-0.039222</td>\n",
       "      <td>0.270941</td>\n",
       "      <td>NaN</td>\n",
       "      <td>-0.118026</td>\n",
       "      <td>-0.120289</td>\n",
       "    </tr>\n",
       "    <tr>\n",
       "      <th>rel_humidity</th>\n",
       "      <td>0.849808</td>\n",
       "      <td>0.219615</td>\n",
       "      <td>-0.520244</td>\n",
       "      <td>1.000000</td>\n",
       "      <td>-0.037153</td>\n",
       "      <td>-0.056161</td>\n",
       "      <td>NaN</td>\n",
       "      <td>-0.536999</td>\n",
       "      <td>-0.528775</td>\n",
       "    </tr>\n",
       "    <tr>\n",
       "      <th>press_kPa</th>\n",
       "      <td>-0.076022</td>\n",
       "      <td>-0.124601</td>\n",
       "      <td>-0.039222</td>\n",
       "      <td>-0.037153</td>\n",
       "      <td>1.000000</td>\n",
       "      <td>-0.030029</td>\n",
       "      <td>NaN</td>\n",
       "      <td>0.165163</td>\n",
       "      <td>0.188495</td>\n",
       "    </tr>\n",
       "    <tr>\n",
       "      <th>wind_speed</th>\n",
       "      <td>0.066440</td>\n",
       "      <td>0.272561</td>\n",
       "      <td>0.270941</td>\n",
       "      <td>-0.056161</td>\n",
       "      <td>-0.030029</td>\n",
       "      <td>1.000000</td>\n",
       "      <td>NaN</td>\n",
       "      <td>-0.214157</td>\n",
       "      <td>-0.213310</td>\n",
       "    </tr>\n",
       "    <tr>\n",
       "      <th>day</th>\n",
       "      <td>NaN</td>\n",
       "      <td>NaN</td>\n",
       "      <td>NaN</td>\n",
       "      <td>NaN</td>\n",
       "      <td>NaN</td>\n",
       "      <td>NaN</td>\n",
       "      <td>NaN</td>\n",
       "      <td>NaN</td>\n",
       "      <td>NaN</td>\n",
       "    </tr>\n",
       "    <tr>\n",
       "      <th>rain_today</th>\n",
       "      <td>-0.718994</td>\n",
       "      <td>-0.639495</td>\n",
       "      <td>-0.118026</td>\n",
       "      <td>-0.536999</td>\n",
       "      <td>0.165163</td>\n",
       "      <td>-0.214157</td>\n",
       "      <td>NaN</td>\n",
       "      <td>1.000000</td>\n",
       "      <td>0.908451</td>\n",
       "    </tr>\n",
       "    <tr>\n",
       "      <th>rain_tomorrow</th>\n",
       "      <td>-0.710148</td>\n",
       "      <td>-0.634057</td>\n",
       "      <td>-0.120289</td>\n",
       "      <td>-0.528775</td>\n",
       "      <td>0.188495</td>\n",
       "      <td>-0.213310</td>\n",
       "      <td>NaN</td>\n",
       "      <td>0.908451</td>\n",
       "      <td>1.000000</td>\n",
       "    </tr>\n",
       "  </tbody>\n",
       "</table>\n",
       "</div>"
      ],
      "text/plain": [
       "               dew_point      tmin      tmax  rel_humidity  press_kPa  \\\n",
       "dew_point       1.000000  0.664980 -0.022607      0.849808  -0.076022   \n",
       "tmin            0.664980  1.000000  0.684752      0.219615  -0.124601   \n",
       "tmax           -0.022607  0.684752  1.000000     -0.520244  -0.039222   \n",
       "rel_humidity    0.849808  0.219615 -0.520244      1.000000  -0.037153   \n",
       "press_kPa      -0.076022 -0.124601 -0.039222     -0.037153   1.000000   \n",
       "wind_speed      0.066440  0.272561  0.270941     -0.056161  -0.030029   \n",
       "day                  NaN       NaN       NaN           NaN        NaN   \n",
       "rain_today     -0.718994 -0.639495 -0.118026     -0.536999   0.165163   \n",
       "rain_tomorrow  -0.710148 -0.634057 -0.120289     -0.528775   0.188495   \n",
       "\n",
       "               wind_speed  day  rain_today  rain_tomorrow  \n",
       "dew_point        0.066440  NaN   -0.718994      -0.710148  \n",
       "tmin             0.272561  NaN   -0.639495      -0.634057  \n",
       "tmax             0.270941  NaN   -0.118026      -0.120289  \n",
       "rel_humidity    -0.056161  NaN   -0.536999      -0.528775  \n",
       "press_kPa       -0.030029  NaN    0.165163       0.188495  \n",
       "wind_speed       1.000000  NaN   -0.214157      -0.213310  \n",
       "day                   NaN  NaN         NaN            NaN  \n",
       "rain_today      -0.214157  NaN    1.000000       0.908451  \n",
       "rain_tomorrow   -0.213310  NaN    0.908451       1.000000  "
      ]
     },
     "execution_count": 42,
     "metadata": {},
     "output_type": "execute_result"
    }
   ],
   "source": [
    "x_train.corr()"
   ]
  },
  {
   "cell_type": "markdown",
   "metadata": {},
   "source": [
    "FEATURE  SELECTION"
   ]
  },
  {
   "cell_type": "code",
   "execution_count": 43,
   "metadata": {},
   "outputs": [
    {
     "data": {
      "text/plain": [
       "<Axes: >"
      ]
     },
     "execution_count": 43,
     "metadata": {},
     "output_type": "execute_result"
    },
    {
     "data": {
      "image/png": "[encoded data removed]",
      "text/plain": [
       "<Figure size 640x480 with 2 Axes>"
      ]
     },
     "metadata": {},
     "output_type": "display_data"
    }
   ],
   "source": [
    "#CHECKING FOR MULTICOLLINIARITY\n",
    "corr=x_train.corr()\n",
    "sns.heatmap(corr,annot=True)"
   ]
  },
  {
   "cell_type": "code",
   "execution_count": 44,
   "metadata": {},
   "outputs": [
    {
     "data": {
      "text/html": [
       "<div>\n",
       "<style scoped>\n",
       "    .dataframe tbody tr th:only-of-type {\n",
       "        vertical-align: middle;\n",
       "    }\n",
       "\n",
       "    .dataframe tbody tr th {\n",
       "        vertical-align: top;\n",
       "    }\n",
       "\n",
       "    .dataframe thead th {\n",
       "        text-align: right;\n",
       "    }\n",
       "</style>\n",
       "<table border=\"1\" class=\"dataframe\">\n",
       "  <thead>\n",
       "    <tr style=\"text-align: right;\">\n",
       "      <th></th>\n",
       "      <th>dew_point</th>\n",
       "      <th>tmin</th>\n",
       "      <th>tmax</th>\n",
       "      <th>rel_humidity</th>\n",
       "      <th>preci</th>\n",
       "      <th>press_kPa</th>\n",
       "      <th>wind_speed</th>\n",
       "      <th>day</th>\n",
       "      <th>rain_today</th>\n",
       "      <th>rain_tomorrow</th>\n",
       "    </tr>\n",
       "  </thead>\n",
       "  <tbody>\n",
       "    <tr>\n",
       "      <th>dew_point</th>\n",
       "      <td>1.000000</td>\n",
       "      <td>0.665418</td>\n",
       "      <td>-0.020095</td>\n",
       "      <td>0.849008</td>\n",
       "      <td>0.439712</td>\n",
       "      <td>-0.076609</td>\n",
       "      <td>0.066849</td>\n",
       "      <td>NaN</td>\n",
       "      <td>-0.719602</td>\n",
       "      <td>-0.710025</td>\n",
       "    </tr>\n",
       "    <tr>\n",
       "      <th>tmin</th>\n",
       "      <td>0.665418</td>\n",
       "      <td>1.000000</td>\n",
       "      <td>0.686183</td>\n",
       "      <td>0.218600</td>\n",
       "      <td>0.373536</td>\n",
       "      <td>-0.128149</td>\n",
       "      <td>0.270107</td>\n",
       "      <td>NaN</td>\n",
       "      <td>-0.640144</td>\n",
       "      <td>-0.634877</td>\n",
       "    </tr>\n",
       "    <tr>\n",
       "      <th>tmax</th>\n",
       "      <td>-0.020095</td>\n",
       "      <td>0.686183</td>\n",
       "      <td>1.000000</td>\n",
       "      <td>-0.519295</td>\n",
       "      <td>-0.011303</td>\n",
       "      <td>-0.042979</td>\n",
       "      <td>0.267897</td>\n",
       "      <td>NaN</td>\n",
       "      <td>-0.119913</td>\n",
       "      <td>-0.123347</td>\n",
       "    </tr>\n",
       "    <tr>\n",
       "      <th>rel_humidity</th>\n",
       "      <td>0.849008</td>\n",
       "      <td>0.218600</td>\n",
       "      <td>-0.519295</td>\n",
       "      <td>1.000000</td>\n",
       "      <td>0.374908</td>\n",
       "      <td>-0.036007</td>\n",
       "      <td>-0.054944</td>\n",
       "      <td>NaN</td>\n",
       "      <td>-0.536381</td>\n",
       "      <td>-0.526773</td>\n",
       "    </tr>\n",
       "    <tr>\n",
       "      <th>preci</th>\n",
       "      <td>0.439712</td>\n",
       "      <td>0.373536</td>\n",
       "      <td>-0.011303</td>\n",
       "      <td>0.374908</td>\n",
       "      <td>1.000000</td>\n",
       "      <td>-0.109283</td>\n",
       "      <td>0.339432</td>\n",
       "      <td>NaN</td>\n",
       "      <td>-0.526983</td>\n",
       "      <td>-0.506175</td>\n",
       "    </tr>\n",
       "    <tr>\n",
       "      <th>press_kPa</th>\n",
       "      <td>-0.076609</td>\n",
       "      <td>-0.128149</td>\n",
       "      <td>-0.042979</td>\n",
       "      <td>-0.036007</td>\n",
       "      <td>-0.109283</td>\n",
       "      <td>1.000000</td>\n",
       "      <td>-0.032605</td>\n",
       "      <td>NaN</td>\n",
       "      <td>0.168336</td>\n",
       "      <td>0.191511</td>\n",
       "    </tr>\n",
       "    <tr>\n",
       "      <th>wind_speed</th>\n",
       "      <td>0.066849</td>\n",
       "      <td>0.270107</td>\n",
       "      <td>0.267897</td>\n",
       "      <td>-0.054944</td>\n",
       "      <td>0.339432</td>\n",
       "      <td>-0.032605</td>\n",
       "      <td>1.000000</td>\n",
       "      <td>NaN</td>\n",
       "      <td>-0.214522</td>\n",
       "      <td>-0.214785</td>\n",
       "    </tr>\n",
       "    <tr>\n",
       "      <th>day</th>\n",
       "      <td>NaN</td>\n",
       "      <td>NaN</td>\n",
       "      <td>NaN</td>\n",
       "      <td>NaN</td>\n",
       "      <td>NaN</td>\n",
       "      <td>NaN</td>\n",
       "      <td>NaN</td>\n",
       "      <td>NaN</td>\n",
       "      <td>NaN</td>\n",
       "      <td>NaN</td>\n",
       "    </tr>\n",
       "    <tr>\n",
       "      <th>rain_today</th>\n",
       "      <td>-0.719602</td>\n",
       "      <td>-0.640144</td>\n",
       "      <td>-0.119913</td>\n",
       "      <td>-0.536381</td>\n",
       "      <td>-0.526983</td>\n",
       "      <td>0.168336</td>\n",
       "      <td>-0.214522</td>\n",
       "      <td>NaN</td>\n",
       "      <td>1.000000</td>\n",
       "      <td>0.910334</td>\n",
       "    </tr>\n",
       "    <tr>\n",
       "      <th>rain_tomorrow</th>\n",
       "      <td>-0.710025</td>\n",
       "      <td>-0.634877</td>\n",
       "      <td>-0.123347</td>\n",
       "      <td>-0.526773</td>\n",
       "      <td>-0.506175</td>\n",
       "      <td>0.191511</td>\n",
       "      <td>-0.214785</td>\n",
       "      <td>NaN</td>\n",
       "      <td>0.910334</td>\n",
       "      <td>1.000000</td>\n",
       "    </tr>\n",
       "  </tbody>\n",
       "</table>\n",
       "</div>"
      ],
      "text/plain": [
       "               dew_point      tmin      tmax  rel_humidity     preci  \\\n",
       "dew_point       1.000000  0.665418 -0.020095      0.849008  0.439712   \n",
       "tmin            0.665418  1.000000  0.686183      0.218600  0.373536   \n",
       "tmax           -0.020095  0.686183  1.000000     -0.519295 -0.011303   \n",
       "rel_humidity    0.849008  0.218600 -0.519295      1.000000  0.374908   \n",
       "preci           0.439712  0.373536 -0.011303      0.374908  1.000000   \n",
       "press_kPa      -0.076609 -0.128149 -0.042979     -0.036007 -0.109283   \n",
       "wind_speed      0.066849  0.270107  0.267897     -0.054944  0.339432   \n",
       "day                  NaN       NaN       NaN           NaN       NaN   \n",
       "rain_today     -0.719602 -0.640144 -0.119913     -0.536381 -0.526983   \n",
       "rain_tomorrow  -0.710025 -0.634877 -0.123347     -0.526773 -0.506175   \n",
       "\n",
       "               press_kPa  wind_speed  day  rain_today  rain_tomorrow  \n",
       "dew_point      -0.076609    0.066849  NaN   -0.719602      -0.710025  \n",
       "tmin           -0.128149    0.270107  NaN   -0.640144      -0.634877  \n",
       "tmax           -0.042979    0.267897  NaN   -0.119913      -0.123347  \n",
       "rel_humidity   -0.036007   -0.054944  NaN   -0.536381      -0.526773  \n",
       "preci          -0.109283    0.339432  NaN   -0.526983      -0.506175  \n",
       "press_kPa       1.000000   -0.032605  NaN    0.168336       0.191511  \n",
       "wind_speed     -0.032605    1.000000  NaN   -0.214522      -0.214785  \n",
       "day                  NaN         NaN  NaN         NaN            NaN  \n",
       "rain_today      0.168336   -0.214522  NaN    1.000000       0.910334  \n",
       "rain_tomorrow   0.191511   -0.214785  NaN    0.910334       1.000000  "
      ]
     },
     "execution_count": 44,
     "metadata": {},
     "output_type": "execute_result"
    }
   ],
   "source": [
    "df.corr()"
   ]
  },
  {
   "cell_type": "code",
   "execution_count": 45,
   "metadata": {},
   "outputs": [],
   "source": [
    "def correlation(dataset,threshold):\n",
    "    col_corr=set()\n",
    "    corr_matrix=dataset.corr()\n",
    "    for i in range(len(corr_matrix.columns)):\n",
    "        for j in range(i):\n",
    "            if abs(corr_matrix.iloc[i,j])>threshold:\n",
    "                colname=corr_matrix.columns[i]\n",
    "                col_corr.add(colname)\n",
    "    return col_corr"
   ]
  },
  {
   "cell_type": "code",
   "execution_count": 46,
   "metadata": {},
   "outputs": [],
   "source": [
    "\n",
    "## threshold-- Domain expertise\n",
    "corr_features=correlation(x_train,0.85)"
   ]
  },
  {
   "cell_type": "code",
   "execution_count": 47,
   "metadata": {},
   "outputs": [
    {
     "data": {
      "text/plain": [
       "{'rain_tomorrow'}"
      ]
     },
     "execution_count": 47,
     "metadata": {},
     "output_type": "execute_result"
    }
   ],
   "source": [
    "\n",
    "corr_features"
   ]
  },
  {
   "cell_type": "code",
   "execution_count": 48,
   "metadata": {},
   "outputs": [
    {
     "data": {
      "text/plain": [
       "((28470, 8), (9490, 8))"
      ]
     },
     "execution_count": 48,
     "metadata": {},
     "output_type": "execute_result"
    }
   ],
   "source": [
    "##drop features when correlation is more than o.85\n",
    "\n",
    "x_train.drop(corr_features,axis=1,inplace=True)\n",
    "x_test.drop(corr_features,axis=1,inplace=True)\n",
    "x_train.shape,x_test.shape"
   ]
  },
  {
   "cell_type": "markdown",
   "metadata": {},
   "source": [
    "feature scaling or standardization"
   ]
  },
  {
   "cell_type": "code",
   "execution_count": 49,
   "metadata": {},
   "outputs": [],
   "source": [
    "from sklearn.preprocessing import StandardScaler"
   ]
  },
  {
   "cell_type": "code",
   "execution_count": 50,
   "metadata": {},
   "outputs": [],
   "source": [
    "scaler=StandardScaler()\n",
    "x_train_scaled=scaler.fit_transform(x_train)\n",
    "x_test_scaled=scaler.fit_transform(x_test)"
   ]
  },
  {
   "cell_type": "code",
   "execution_count": 56,
   "metadata": {},
   "outputs": [
    {
     "data": {
      "text/plain": [
       "array([[ 0.97525466,  0.66571871, -0.09028387, ..., -0.30901341,\n",
       "         0.        ,  0.86116431],\n",
       "       [-0.70976423, -1.07490319, -0.7019627 , ...,  0.11753902,\n",
       "         0.        ,  0.86116431],\n",
       "       [ 1.04412162,  0.83401088,  0.19984779, ..., -0.10640101,\n",
       "         0.        , -1.16121859],\n",
       "       ...,\n",
       "       [-0.08662936, -0.82006076, -0.86273629, ..., -0.72490202,\n",
       "         0.        ,  0.86116431],\n",
       "       [-0.2443569 , -1.30249832, -1.31918545, ..., -1.38605828,\n",
       "         0.        ,  0.86116431],\n",
       "       [ 0.85418211,  0.69296601,  0.72467192, ...,  1.49850249,\n",
       "         0.        , -1.16121859]])"
      ]
     },
     "execution_count": 56,
     "metadata": {},
     "output_type": "execute_result"
    }
   ],
   "source": [
    "x_test_scaled"
   ]
  },
  {
   "cell_type": "code",
   "execution_count": 51,
   "metadata": {},
   "outputs": [
    {
     "data": {
      "text/plain": [
       "array([[-0.59553066, -0.02593613,  1.07282766, ...,  1.47299964,\n",
       "         0.        ,  0.888125  ],\n",
       "       [ 0.85704785,  0.68744399, -0.16356492, ...,  0.65757991,\n",
       "         0.        , -1.12596762],\n",
       "       [-0.37393211, -1.21221304, -1.31815107, ..., -0.60213903,\n",
       "         0.        , -1.12596762],\n",
       "       ...,\n",
       "       [-1.45090107,  0.81172062,  1.74773067, ...,  0.8039373 ,\n",
       "         0.        ,  0.888125  ],\n",
       "       [-0.22989305, -0.581146  , -0.53727155, ..., -0.75895052,\n",
       "         0.        ,  0.888125  ],\n",
       "       [ 0.69749689,  1.18616449,  1.40749031, ..., -0.01670948,\n",
       "         0.        , -1.12596762]])"
      ]
     },
     "execution_count": 51,
     "metadata": {},
     "output_type": "execute_result"
    }
   ],
   "source": [
    "\n",
    "x_train_scaled"
   ]
  },
  {
   "cell_type": "code",
   "execution_count": 52,
   "metadata": {},
   "outputs": [
    {
     "data": {
      "text/plain": [
       "dew_point        0\n",
       "tmin             0\n",
       "tmax             0\n",
       "rel_humidity     0\n",
       "preci            0\n",
       "press_kPa        0\n",
       "wind_speed       0\n",
       "day              0\n",
       "rain_today       0\n",
       "rain_tomorrow    0\n",
       "dtype: int64"
      ]
     },
     "execution_count": 52,
     "metadata": {},
     "output_type": "execute_result"
    }
   ],
   "source": [
    "df.isnull().sum()"
   ]
  },
  {
   "cell_type": "markdown",
   "metadata": {},
   "source": [
    "\n",
    "Box plot to perform standard scaler"
   ]
  },
  {
   "cell_type": "code",
   "execution_count": 53,
   "metadata": {},
   "outputs": [
    {
     "data": {
      "text/plain": [
       "Text(0.5, 1.0, 'x_train after scaling')"
      ]
     },
     "execution_count": 53,
     "metadata": {},
     "output_type": "execute_result"
    },
    {
     "data": {
      "image/png": "[encoded data removed]",
      "text/plain": [
       "<Figure size 1500x500 with 3 Axes>"
      ]
     },
     "metadata": {},
     "output_type": "display_data"
    }
   ],
   "source": [
    "plt.subplots(figsize=(15,5))\n",
    "plt.subplot(1,2,1)\n",
    "sns.boxplot(data=x_train)\n",
    "plt.title('x_train before scaling')\n",
    "plt.subplot(1,2,2)\n",
    "sns.boxplot(data=x_train_scaled)\n",
    "plt.title('x_train after scaling')"
   ]
  },
  {
   "cell_type": "markdown",
   "metadata": {},
   "source": [
    "***Linear Regression Model***"
   ]
  },
  {
   "cell_type": "code",
   "execution_count": 54,
   "metadata": {},
   "outputs": [
    {
     "name": "stdout",
     "output_type": "stream",
     "text": [
      "mean absolute error  3.957180051185147\n",
      "r2 score 0.40450777248370684\n"
     ]
    }
   ],
   "source": [
    "from sklearn.linear_model import LinearRegression\n",
    "from sklearn.metrics import mean_absolute_error\n",
    "from sklearn.metrics import r2_score\n",
    "linreg=LinearRegression()\n",
    "linreg.fit(x_train_scaled,y_train)\n",
    "y_pred=linreg.predict(x_test_scaled)\n",
    "mae=mean_absolute_error(y_test,y_pred)\n",
    "score=r2_score(y_test,y_pred)\n",
    "print(\"mean absolute error \",mae)\n",
    "print(\"r2 score\",score)"
   ]
  },
  {
   "cell_type": "code",
   "execution_count": 70,
   "metadata": {},
   "outputs": [
    {
     "name": "stdout",
     "output_type": "stream",
     "text": [
      "mean absolute error 3.9568202132152575\n",
      "r2 score 0.40450581288043885\n"
     ]
    }
   ],
   "source": [
    "from sklearn.linear_model import Ridge\n",
    "from sklearn.metrics import mean_absolute_error\n",
    "from sklearn.metrics import r2_score\n",
    "redreg=Ridge()\n",
    "redreg.fit(x_train_scaled,y_train)\n",
    "y_pred=redreg.predict(x_test_scaled)\n",
    "mae=mean_absolute_error(y_test,y_pred)\n",
    "score=r2_score(y_test,y_pred)\n",
    "print(\"mean absolute error\",mae)\n",
    "print(\"r2 score\",score)"
   ]
  },
  {
   "cell_type": "code",
   "execution_count": 72,
   "metadata": {},
   "outputs": [
    {
     "name": "stdout",
     "output_type": "stream",
     "text": [
      "mean absolute error 3.091649104320337\n",
      "r2 score 0.15294341221574326\n"
     ]
    }
   ],
   "source": [
    "from   sklearn.tree  import DecisionTreeRegressor;\n",
    "from sklearn.metrics import mean_absolute_error\n",
    "from sklearn.metrics import r2_score\n",
    "Dt=DecisionTreeRegressor()\n",
    "Dt.fit(x_train_scaled,y_train)\n",
    "y_pred=Dt.predict(x_test_scaled)\n",
    "mae=mean_absolute_error(y_test,y_pred)\n",
    "score=r2_score(y_test,y_pred)\n",
    "print(\"mean absolute error\",mae)\n",
    "print(\"r2 score\",score)"
   ]
  },
  {
   "cell_type": "code",
   "execution_count": 69,
   "metadata": {},
   "outputs": [
    {
     "name": "stdout",
     "output_type": "stream",
     "text": [
      "mean absolute error 3.718815275825749\n",
      "r2 score 0.3373909196745287\n"
     ]
    }
   ],
   "source": [
    "\n",
    "from sklearn.linear_model import Lasso\n",
    "from sklearn.metrics import mean_absolute_error\n",
    "from sklearn.metrics import r2_score\n",
    "lassoreg=Lasso()\n",
    "lassoreg.fit(x_train_scaled,y_train)\n",
    "y_pred=lassoreg.predict(x_test_scaled)\n",
    "mae=mean_absolute_error(y_test,y_pred)\n",
    "score=r2_score(y_test,y_pred)\n",
    "print(\"mean absolute error\",mae)\n",
    "print(\"r2 score\",score)"
   ]
  },
  {
   "cell_type": "code",
   "execution_count": 73,
   "metadata": {},
   "outputs": [],
   "source": [
    "import pickle\n",
    "pickle.dump(scaler,open('scalers.pkl','wb'))\n",
    "pickle.dump(Dt,open('Dt_regg.pkl','wb'))"
   ]
  },
  {
   "cell_type": "code",
   "execution_count": null,
   "metadata": {},
   "outputs": [],
   "source": []
  }
 ],
 "metadata": {
  "kernelspec": {
   "display_name": "Python 3",
   "language": "python",
   "name": "python3"
  },
  "language_info": {
   "codemirror_mode": {
    "name": "ipython",
    "version": 3
   },
   "file_extension": ".py",
   "mimetype": "text/x-python",
   "name": "python",
   "nbconvert_exporter": "python",
   "pygments_lexer": "ipython3",
   "version": "3.12.2"
  }
 },
 "nbformat": 4,
 "nbformat_minor": 2
}
